{
 "cells": [
  {
   "cell_type": "code",
   "execution_count": null,
   "id": "e493feee-90de-4c94-adff-70a8f3679912",
   "metadata": {},
   "outputs": [],
   "source": []
  }
 ],
 "metadata": {
  "kernelspec": {
   "display_name": "",
   "name": ""
  },
  "language_info": {
   "name": ""
  }
 },
 "nbformat": 4,
 "nbformat_minor": 5
}
