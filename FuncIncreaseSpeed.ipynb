{
 "cells": [
  {
   "cell_type": "code",
   "execution_count": 46,
   "id": "e493feee-90de-4c94-adff-70a8f3679912",
   "metadata": {},
   "outputs": [],
   "source": [
    "import numpy as np\n",
    "import matplotlib.pyplot as plt\n",
    "import math\n",
    "np.math=math"
   ]
  },
  {
   "cell_type": "code",
   "execution_count": 2,
   "id": "efe4f78d-6f15-45ef-9e3c-6aa3fc8f2d1a",
   "metadata": {},
   "outputs": [
    {
     "name": "stdout",
     "output_type": "stream",
     "text": [
      "Collecting numpy\n",
      "  Downloading numpy-2.2.3-cp312-cp312-manylinux_2_17_x86_64.manylinux2014_x86_64.whl.metadata (62 kB)\n",
      "Downloading numpy-2.2.3-cp312-cp312-manylinux_2_17_x86_64.manylinux2014_x86_64.whl (16.1 MB)\n",
      "\u001b[2K   \u001b[38;2;114;156;31m━━━━━━━━━━━━━━━━━━━━━━━━━━━━━━━━━━━━━━━━\u001b[0m \u001b[32m16.1/16.1 MB\u001b[0m \u001b[31m2.2 MB/s\u001b[0m eta \u001b[36m0:00:00\u001b[0m MB/s\u001b[0m eta \u001b[36m0:00:01\u001b[0m:02\u001b[0mm\n",
      "Installing collected packages: numpy\n",
      "Successfully installed numpy-2.2.3\n"
     ]
    }
   ],
   "source": [
    "!pip install numpy"
   ]
  },
  {
   "cell_type": "code",
   "execution_count": 3,
   "id": "f834ed75-163f-4428-ae47-d5414bd1ea57",
   "metadata": {},
   "outputs": [
    {
     "name": "stdout",
     "output_type": "stream",
     "text": [
      "Collecting matplotlib\n",
      "  Downloading matplotlib-3.10.0-cp312-cp312-manylinux_2_17_x86_64.manylinux2014_x86_64.whl.metadata (11 kB)\n",
      "Collecting contourpy>=1.0.1 (from matplotlib)\n",
      "  Downloading contourpy-1.3.1-cp312-cp312-manylinux_2_17_x86_64.manylinux2014_x86_64.whl.metadata (5.4 kB)\n",
      "Collecting cycler>=0.10 (from matplotlib)\n",
      "  Using cached cycler-0.12.1-py3-none-any.whl.metadata (3.8 kB)\n",
      "Collecting fonttools>=4.22.0 (from matplotlib)\n",
      "  Downloading fonttools-4.56.0-cp312-cp312-manylinux_2_5_x86_64.manylinux1_x86_64.manylinux_2_17_x86_64.manylinux2014_x86_64.whl.metadata (101 kB)\n",
      "Collecting kiwisolver>=1.3.1 (from matplotlib)\n",
      "  Downloading kiwisolver-1.4.8-cp312-cp312-manylinux_2_17_x86_64.manylinux2014_x86_64.whl.metadata (6.2 kB)\n",
      "Requirement already satisfied: numpy>=1.23 in /home/celik/miniconda3/lib/python3.12/site-packages (from matplotlib) (2.2.3)\n",
      "Requirement already satisfied: packaging>=20.0 in /home/celik/miniconda3/lib/python3.12/site-packages (from matplotlib) (24.1)\n",
      "Collecting pillow>=8 (from matplotlib)\n",
      "  Downloading pillow-11.1.0-cp312-cp312-manylinux_2_28_x86_64.whl.metadata (9.1 kB)\n",
      "Collecting pyparsing>=2.3.1 (from matplotlib)\n",
      "  Using cached pyparsing-3.2.1-py3-none-any.whl.metadata (5.0 kB)\n",
      "Requirement already satisfied: python-dateutil>=2.7 in /home/celik/miniconda3/lib/python3.12/site-packages (from matplotlib) (2.9.0.post0)\n",
      "Requirement already satisfied: six>=1.5 in /home/celik/miniconda3/lib/python3.12/site-packages (from python-dateutil>=2.7->matplotlib) (1.17.0)\n",
      "Downloading matplotlib-3.10.0-cp312-cp312-manylinux_2_17_x86_64.manylinux2014_x86_64.whl (8.6 MB)\n",
      "\u001b[2K   \u001b[38;2;114;156;31m━━━━━━━━━━━━━━━━━━━━━━━━━━━━━━━━━━━━━━━━\u001b[0m \u001b[32m8.6/8.6 MB\u001b[0m \u001b[31m11.5 MB/s\u001b[0m eta \u001b[36m0:00:00\u001b[0m MB/s\u001b[0m eta \u001b[36m0:00:01\u001b[0m\n",
      "Downloading contourpy-1.3.1-cp312-cp312-manylinux_2_17_x86_64.manylinux2014_x86_64.whl (323 kB)\n",
      "Using cached cycler-0.12.1-py3-none-any.whl (8.3 kB)\n",
      "Downloading fonttools-4.56.0-cp312-cp312-manylinux_2_5_x86_64.manylinux1_x86_64.manylinux_2_17_x86_64.manylinux2014_x86_64.whl (4.9 MB)\n",
      "\u001b[2K   \u001b[38;2;114;156;31m━━━━━━━━━━━━━━━━━━━━━━━━━━━━━━━━━━━━━━━━\u001b[0m \u001b[32m4.9/4.9 MB\u001b[0m \u001b[31m11.7 MB/s\u001b[0m eta \u001b[36m0:00:00\u001b[0m31m12.3 MB/s\u001b[0m eta \u001b[36m0:00:01\u001b[0m\n",
      "Downloading kiwisolver-1.4.8-cp312-cp312-manylinux_2_17_x86_64.manylinux2014_x86_64.whl (1.5 MB)\n",
      "\u001b[2K   \u001b[38;2;114;156;31m━━━━━━━━━━━━━━━━━━━━━━━━━━━━━━━━━━━━━━━━\u001b[0m \u001b[32m1.5/1.5 MB\u001b[0m \u001b[31m11.1 MB/s\u001b[0m eta \u001b[36m0:00:00\u001b[0m\n",
      "Downloading pillow-11.1.0-cp312-cp312-manylinux_2_28_x86_64.whl (4.5 MB)\n",
      "\u001b[2K   \u001b[38;2;114;156;31m━━━━━━━━━━━━━━━━━━━━━━━━━━━━━━━━━━━━━━━━\u001b[0m \u001b[32m4.5/4.5 MB\u001b[0m \u001b[31m11.7 MB/s\u001b[0m eta \u001b[36m0:00:00\u001b[0m31m12.4 MB/s\u001b[0m eta \u001b[36m0:00:01\u001b[0m\n",
      "\u001b[?25hUsing cached pyparsing-3.2.1-py3-none-any.whl (107 kB)\n",
      "Installing collected packages: pyparsing, pillow, kiwisolver, fonttools, cycler, contourpy, matplotlib\n",
      "Successfully installed contourpy-1.3.1 cycler-0.12.1 fonttools-4.56.0 kiwisolver-1.4.8 matplotlib-3.10.0 pillow-11.1.0 pyparsing-3.2.1\n"
     ]
    }
   ],
   "source": [
    "!pip install matplotlib"
   ]
  },
  {
   "cell_type": "code",
   "execution_count": null,
   "id": "d217351b-72c5-4950-8723-6194d817af06",
   "metadata": {},
   "outputs": [],
   "source": []
  },
  {
   "cell_type": "code",
   "execution_count": 98,
   "id": "4be6a368-fd76-46b2-8aec-c05f51b08603",
   "metadata": {},
   "outputs": [],
   "source": [
    "baslangic=0\n",
    "bitis=100\n",
    "x=np.linspace(baslangic,bitis,(bitis-baslangic)+1)#.astype(int)"
   ]
  },
  {
   "cell_type": "code",
   "execution_count": 99,
   "id": "00994cd7-e060-465f-a47f-617aeb783dea",
   "metadata": {},
   "outputs": [],
   "source": [
    "def fact(x):\n",
    "    if x <=1:\n",
    "        return 1\n",
    "    return x*fact(x-1)"
   ]
  },
  {
   "cell_type": "code",
   "execution_count": null,
   "id": "a26ca162-cfae-43f9-945a-08eb217e6a5e",
   "metadata": {},
   "outputs": [],
   "source": []
  },
  {
   "cell_type": "code",
   "execution_count": 100,
   "id": "ba514fc5-c8e4-4601-a318-6bb765975a07",
   "metadata": {},
   "outputs": [
    {
     "name": "stderr",
     "output_type": "stream",
     "text": [
      "/tmp/ipykernel_31221/2581502913.py:3: RuntimeWarning: divide by zero encountered in log2\n",
      "  y2 = np.log2(x)\n",
      "/tmp/ipykernel_31221/2581502913.py:5: RuntimeWarning: divide by zero encountered in log2\n",
      "  y3 = x*np.log2(x)\n",
      "/tmp/ipykernel_31221/2581502913.py:5: RuntimeWarning: invalid value encountered in multiply\n",
      "  y3 = x*np.log2(x)\n"
     ]
    }
   ],
   "source": [
    "y1 = np.arange(0,len(x))*0 + 1\n",
    "\n",
    "y2 = np.log2(x)\n",
    "\n",
    "y3 = x*np.log2(x)\n",
    "\n",
    "y4 = x**2\n",
    "\n",
    "y5 = 2**x\n",
    "\n",
    "y6 = [fact(x) for x in x]\n",
    "\n",
    "y7 = x**x"
   ]
  },
  {
   "cell_type": "code",
   "execution_count": 102,
   "id": "501835a3-4121-44a8-b7d5-00bd54c0c683",
   "metadata": {},
   "outputs": [
    {
     "data": {
      "text/plain": [
       "array([1.00000000e+000, 1.00000000e+000, 4.00000000e+000, 2.70000000e+001,\n",
       "       2.56000000e+002, 3.12500000e+003, 4.66560000e+004, 8.23543000e+005,\n",
       "       1.67772160e+007, 3.87420489e+008, 1.00000000e+010, 2.85311671e+011,\n",
       "       8.91610045e+012, 3.02875107e+014, 1.11120068e+016, 4.37893890e+017,\n",
       "       1.84467441e+019, 8.27240262e+020, 3.93464081e+022, 1.97841966e+024,\n",
       "       1.04857600e+026, 5.84258702e+027, 3.41427877e+029, 2.08804680e+031,\n",
       "       1.33373578e+033, 8.88178420e+034, 6.15611958e+036, 4.43426488e+038,\n",
       "       3.31455231e+040, 2.56768615e+042, 2.05891132e+044, 1.70691741e+046,\n",
       "       1.46150164e+048, 1.29110040e+050, 1.17566389e+052, 1.10250750e+054,\n",
       "       1.06387359e+056, 1.05551350e+058, 1.07591180e+060, 1.12595147e+062,\n",
       "       1.20892582e+064, 1.33087763e+066, 1.50130938e+068, 1.73437734e+070,\n",
       "       2.05077382e+072, 2.48063644e+074, 3.06803463e+076, 3.87792426e+078,\n",
       "       5.00702078e+080, 6.60097247e+082, 8.88178420e+084, 1.21921131e+087,\n",
       "       1.70676555e+089, 2.43568482e+091, 3.54211805e+093, 5.24744532e+095,\n",
       "       7.91643249e+097, 1.21581297e+100, 1.90030638e+102, 3.02182067e+104,\n",
       "       4.88736780e+106, 8.03748056e+108, 1.34364565e+111, 2.28273036e+113,\n",
       "       3.94020062e+115, 6.90825216e+117, 1.22998480e+120, 2.22337020e+122,\n",
       "       4.07949180e+124, 7.59604031e+126, 1.43503602e+129, 2.75006373e+131,\n",
       "       5.34490195e+133, 1.05334051e+136, 2.10449191e+138, 4.26181658e+140,\n",
       "       8.74647408e+142, 1.81880374e+145, 3.83158981e+147, 8.17598737e+149,\n",
       "       1.76684706e+152, 3.86621970e+154, 8.56516819e+156, 1.92079788e+159,\n",
       "       4.35973437e+161, 1.00140253e+164, 2.32737737e+166, 5.47236401e+168,\n",
       "       1.30159283e+171, 3.13119844e+173, 7.61773480e+175, 1.87398755e+178,\n",
       "       4.66101087e+180, 1.17196385e+183, 2.97864152e+185, 7.65142812e+187,\n",
       "       1.98627041e+190, 5.21024594e+192, 1.38087834e+195, 3.69729638e+197,\n",
       "       1.00000000e+200])"
      ]
     },
     "execution_count": 102,
     "metadata": {},
     "output_type": "execute_result"
    }
   ],
   "source": []
  },
  {
   "cell_type": "code",
   "execution_count": 108,
   "id": "881bc0db-e809-49c5-adc2-ea107ff98cdb",
   "metadata": {},
   "outputs": [
    {
     "data": {
      "image/png": "[encoded data removed]",
      "text/plain": [
       "<Figure size 640x480 with 1 Axes>"
      ]
     },
     "metadata": {},
     "output_type": "display_data"
    }
   ],
   "source": [
    "plt.plot(x,y1,y2)\n",
    "plt.show()"
   ]
  },
  {
   "cell_type": "code",
   "execution_count": null,
   "id": "e4b50767-3e2d-42f5-ada1-896d7aa09e5c",
   "metadata": {},
   "outputs": [],
   "source": []
  }
 ],
 "metadata": {
  "kernelspec": {
   "display_name": "Python 3 (ipykernel)",
   "language": "python",
   "name": "python3"
  },
  "language_info": {
   "codemirror_mode": {
    "name": "ipython",
    "version": 3
   },
   "file_extension": ".py",
   "mimetype": "text/x-python",
   "name": "python",
   "nbconvert_exporter": "python",
   "pygments_lexer": "ipython3",
   "version": "3.12.7"
  }
 },
 "nbformat": 4,
 "nbformat_minor": 5
}
