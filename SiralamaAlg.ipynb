{
 "cells": [
  {
   "cell_type": "markdown",
   "id": "2cb9616d-0dd1-417c-853f-fef1a62b1615",
   "metadata": {},
   "source": [
    "Selection Sort"
   ]
  },
  {
   "cell_type": "code",
   "execution_count": 58,
   "id": "028012b9-9a92-49cd-a2f7-d49d31c563b5",
   "metadata": {},
   "outputs": [],
   "source": [
    "def swap(Arr,x,y):\n",
    "    tmp=Arr[x]\n",
    "    Arr[x]=Arr[y]\n",
    "    Arr[y]=tmp\n"
   ]
  },
  {
   "cell_type": "code",
   "execution_count": 77,
   "id": "6581c5a6-79d6-43d9-a8d5-2a6a893e6d93",
   "metadata": {},
   "outputs": [],
   "source": [
    "\n",
    "    \n",
    "def SelectionSort(Dizi):\n",
    "    for i in range(len(Dizi)-1):\n",
    "        m=i\n",
    "        for j in range(i+1,len(Dizi)):\n",
    "            if Dizi[j] < Dizi[m]:\n",
    "                #print(\"swapped\")\n",
    "                m=j\n",
    "        \n",
    "\n",
    "        swap(Dizi,m,i)\n",
    "\n",
    "    print(Dizi)\n",
    "                "
   ]
  },
  {
   "cell_type": "code",
   "execution_count": 80,
   "id": "f99c84ac-9995-4439-a379-d721b4f5ea73",
   "metadata": {},
   "outputs": [
    {
     "name": "stdout",
     "output_type": "stream",
     "text": [
      "[0, 0, 1, 2, 3, 3, 4, 5, 6, 7, 8, 9]\n"
     ]
    }
   ],
   "source": [
    "a=[4,7,1,0,8,5,2,3,5,9,11,0,1,3,3,6]\n",
    "b=[1,2,3,4,5,6,7,8,9,0,0,3]\n",
    "SelectionSort(b)"
   ]
  },
  {
   "cell_type": "markdown",
   "id": "718ad149-1964-4cea-a63e-c65e1d8599d3",
   "metadata": {},
   "source": [
    "Buble Sort"
   ]
  },
  {
   "cell_type": "code",
   "execution_count": null,
   "id": "cbdc3a20-2502-467f-8a0e-e0eb1889b89c",
   "metadata": {},
   "outputs": [],
   "source": []
  },
  {
   "cell_type": "code",
   "execution_count": 83,
   "id": "8ac3a448-2cc2-42c4-9c79-3e9b101b6abc",
   "metadata": {},
   "outputs": [],
   "source": [
    "def BubleSort(Dizi):\n",
    "    for j in range(len(Dizi)-1):\n",
    "        swapped=False\n",
    "        for i in range(len(Dizi)-1-j):\n",
    "            k=i+1\n",
    "            if Dizi[k]<Dizi[i]:\n",
    "                swap(Dizi,k,i)\n",
    "                swapped=True\n",
    "        if not swapped:\n",
    "            print(\"Dizi zaten sıralı\")\n",
    "            break\n",
    "    print(Dizi)"
   ]
  },
  {
   "cell_type": "code",
   "execution_count": 87,
   "id": "880b71dc-21c3-46f0-acad-3dd9d6dc32ee",
   "metadata": {},
   "outputs": [
    {
     "name": "stdout",
     "output_type": "stream",
     "text": [
      "Dizi zaten sıralı\n",
      "[1, 2, 3, 4, 5, 6, 7, 8, 9]\n"
     ]
    }
   ],
   "source": [
    "a=[4,7,1,0,8,5,2,3,5,9,11,0,1,3,3,6]\n",
    "b=[1,2,3,4,5,6,7,8,9]\n",
    "BubleSort(b)"
   ]
  },
  {
   "cell_type": "code",
   "execution_count": null,
   "id": "f61ab070-833d-46f5-86c4-d0a529470223",
   "metadata": {},
   "outputs": [],
   "source": []
  },
  {
   "cell_type": "markdown",
   "id": "a980cbcf-191e-4e6e-9a23-095f5d73f9b4",
   "metadata": {},
   "source": [
    "Insertion Sort"
   ]
  },
  {
   "cell_type": "code",
   "execution_count": 132,
   "id": "a6623acc-748b-4c18-ac60-72e7e8b3e5af",
   "metadata": {},
   "outputs": [],
   "source": [
    "def InsertionSort(Dizi):\n",
    "    for i in range(len(Dizi) -1):\n",
    "        key=Dizi[i+1]\n",
    "        swapped=False\n",
    "       \n",
    "        while key < Dizi[i] and i>=0:\n",
    "            Dizi[i+1]=Dizi[i]\n",
    "            i-=1\n",
    "            swapped=True\n",
    "        if not swapped:\n",
    "            break\n",
    "            print(\"Zaten sıralı\")\n",
    "            \n",
    "        Dizi[i+1]=key\n",
    "    print(Dizi)\n",
    "\n",
    "            "
   ]
  },
  {
   "cell_type": "code",
   "execution_count": 133,
   "id": "30ddca97-02e7-48ab-9daa-9857c0701a27",
   "metadata": {},
   "outputs": [
    {
     "name": "stdout",
     "output_type": "stream",
     "text": [
      "[1, 2, 3, 4, 5, 6, 7, 8, 9, 0]\n"
     ]
    }
   ],
   "source": [
    "a=[4,7,1,0,8,5,2,3,5,9,11,0,1,3,3,6]\n",
    "b=[1,2,3,4,5,6,7,8,9,0]\n",
    "InsertionSort(b)"
   ]
  },
  {
   "cell_type": "code",
   "execution_count": null,
   "id": "ef7f32f2-8185-47b9-862f-cfb569b2cb8d",
   "metadata": {},
   "outputs": [],
   "source": []
  },
  {
   "cell_type": "markdown",
   "id": "e9eaeb47-3cab-4bf6-81a9-99b4ea14a2e8",
   "metadata": {},
   "source": [
    "Merge Sort"
   ]
  },
  {
   "cell_type": "code",
   "execution_count": 137,
   "id": "ab83f964-978c-4dce-80f1-d552c769732e",
   "metadata": {},
   "outputs": [],
   "source": [
    "def MergeSort(Dizi):\n",
    "    n = len(Dizi)\n",
    "    if n<=1:\n",
    "        return 1\n",
    "    L=Dizi[:int(n/2)]\n",
    "    R=Dizi[int(n/2):]\n",
    "    #print(\"L:\",L,\" R:\",R)\n",
    "    \n",
    "\n",
    "    MergeSort(L)\n",
    "    #print(\"Sıra R'de\")\n",
    "    MergeSort(R)\n",
    "    print(\"-----------------\")\n",
    "    print(\"L:\",L,\" R:\",R)\n",
    "    "
   ]
  },
  {
   "cell_type": "code",
   "execution_count": 184,
   "id": "90718be2-cd1e-44a0-acb5-4a9f2cbb2c51",
   "metadata": {},
   "outputs": [
    {
     "name": "stdout",
     "output_type": "stream",
     "text": [
      "-----------------\n",
      "L: [5]  R: [0]\n",
      "-----------------\n",
      "L: [2]  R: [1]\n",
      "-----------------\n",
      "L: [4]  R: [2, 1]\n",
      "-----------------\n",
      "L: [5, 0]  R: [4, 2, 1]\n"
     ]
    }
   ],
   "source": [
    "a=[4,7,1,0,8,5,2,3,5,9,11,0,1,3,3,6]\n",
    "b=[1,2,3,4,5,6,7]\n",
    "c=[5,0,4,2,1]\n",
    "MergeSort(c)"
   ]
  },
  {
   "cell_type": "code",
   "execution_count": 182,
   "id": "32ec38c6-e07f-4d55-87e0-f76db7ca864e",
   "metadata": {},
   "outputs": [],
   "source": [
    "def fact(x,i):\n",
    "    if(x<=1):\n",
    "        return 7\n",
    "    print(i)\n",
    "    a=fact(x-1,i+1)\n",
    "    print(\"i:\",i,\" x:\",x,\" a:\",a)\n",
    "    #print(a)\n",
    "    #return a"
   ]
  },
  {
   "cell_type": "code",
   "execution_count": 183,
   "id": "ec8f7c81-0cff-4c77-8ed2-d797be10c109",
   "metadata": {},
   "outputs": [
    {
     "name": "stdout",
     "output_type": "stream",
     "text": [
      "1\n",
      "2\n",
      "3\n",
      "i: 3  x: 2  a: 7\n",
      "i: 2  x: 3  a: None\n",
      "i: 1  x: 4  a: None\n"
     ]
    }
   ],
   "source": [
    "fact(4,1)"
   ]
  },
  {
   "cell_type": "code",
   "execution_count": null,
   "id": "550b9144-4152-4b5c-8b6a-e0f8904d5f5d",
   "metadata": {},
   "outputs": [],
   "source": []
  }
 ],
 "metadata": {
  "kernelspec": {
   "display_name": "Python 3 (ipykernel)",
   "language": "python",
   "name": "python3"
  },
  "language_info": {
   "codemirror_mode": {
    "name": "ipython",
    "version": 3
   },
   "file_extension": ".py",
   "mimetype": "text/x-python",
   "name": "python",
   "nbconvert_exporter": "python",
   "pygments_lexer": "ipython3",
   "version": "3.13.0"
  }
 },
 "nbformat": 4,
 "nbformat_minor": 5
}
