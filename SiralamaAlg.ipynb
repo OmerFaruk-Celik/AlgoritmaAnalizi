{
 "cells": [
  {
   "cell_type": "markdown",
   "id": "2cb9616d-0dd1-417c-853f-fef1a62b1615",
   "metadata": {},
   "source": [
    "Selection Sort"
   ]
  },
  {
   "cell_type": "code",
   "execution_count": 58,
   "id": "028012b9-9a92-49cd-a2f7-d49d31c563b5",
   "metadata": {},
   "outputs": [],
   "source": [
    "def swap(Arr,x,y):\n",
    "    tmp=Arr[x]\n",
    "    Arr[x]=Arr[y]\n",
    "    Arr[y]=tmp\n"
   ]
  },
  {
   "cell_type": "code",
   "execution_count": 77,
   "id": "6581c5a6-79d6-43d9-a8d5-2a6a893e6d93",
   "metadata": {},
   "outputs": [],
   "source": [
    "\n",
    "    \n",
    "def SelectionSort(Dizi):\n",
    "    for i in range(len(Dizi)-1):\n",
    "        m=i\n",
    "        for j in range(i+1,len(Dizi)):\n",
    "            if Dizi[j] < Dizi[m]:\n",
    "                #print(\"swapped\")\n",
    "                m=j\n",
    "        \n",
    "\n",
    "        swap(Dizi,m,i)\n",
    "\n",
    "    print(Dizi)\n",
    "                "
   ]
  },
  {
   "cell_type": "code",
   "execution_count": 80,
   "id": "f99c84ac-9995-4439-a379-d721b4f5ea73",
   "metadata": {},
   "outputs": [
    {
     "name": "stdout",
     "output_type": "stream",
     "text": [
      "[0, 0, 1, 2, 3, 3, 4, 5, 6, 7, 8, 9]\n"
     ]
    }
   ],
   "source": [
    "a=[4,7,1,0,8,5,2,3,5,9,11,0,1,3,3,6]\n",
    "b=[1,2,3,4,5,6,7,8,9,0,0,3]\n",
    "SelectionSort(b)"
   ]
  },
  {
   "cell_type": "markdown",
   "id": "718ad149-1964-4cea-a63e-c65e1d8599d3",
   "metadata": {},
   "source": [
    "Buble Sort"
   ]
  },
  {
   "cell_type": "code",
   "execution_count": null,
   "id": "cbdc3a20-2502-467f-8a0e-e0eb1889b89c",
   "metadata": {},
   "outputs": [],
   "source": []
  },
  {
   "cell_type": "code",
   "execution_count": 83,
   "id": "8ac3a448-2cc2-42c4-9c79-3e9b101b6abc",
   "metadata": {},
   "outputs": [],
   "source": [
    "def BubleSort(Dizi):\n",
    "    for j in range(len(Dizi)-1):\n",
    "        swapped=False\n",
    "        for i in range(len(Dizi)-1-j):\n",
    "            k=i+1\n",
    "            if Dizi[k]<Dizi[i]:\n",
    "                swap(Dizi,k,i)\n",
    "                swapped=True\n",
    "        if not swapped:\n",
    "            print(\"Dizi zaten sıralı\")\n",
    "            break\n",
    "    print(Dizi)"
   ]
  },
  {
   "cell_type": "code",
   "execution_count": 87,
   "id": "880b71dc-21c3-46f0-acad-3dd9d6dc32ee",
   "metadata": {},
   "outputs": [
    {
     "name": "stdout",
     "output_type": "stream",
     "text": [
      "Dizi zaten sıralı\n",
      "[1, 2, 3, 4, 5, 6, 7, 8, 9]\n"
     ]
    }
   ],
   "source": [
    "a=[4,7,1,0,8,5,2,3,5,9,11,0,1,3,3,6]\n",
    "b=[1,2,3,4,5,6,7,8,9]\n",
    "BubleSort(b)"
   ]
  },
  {
   "cell_type": "code",
   "execution_count": null,
   "id": "f61ab070-833d-46f5-86c4-d0a529470223",
   "metadata": {},
   "outputs": [],
   "source": []
  },
  {
   "cell_type": "markdown",
   "id": "a980cbcf-191e-4e6e-9a23-095f5d73f9b4",
   "metadata": {},
   "source": [
    "Insertion Sort"
   ]
  },
  {
   "cell_type": "code",
   "execution_count": 132,
   "id": "a6623acc-748b-4c18-ac60-72e7e8b3e5af",
   "metadata": {},
   "outputs": [],
   "source": [
    "def InsertionSort(Dizi):\n",
    "    for i in range(len(Dizi) -1):\n",
    "        key=Dizi[i+1]\n",
    "        swapped=False\n",
    "       \n",
    "        while key < Dizi[i] and i>=0:\n",
    "            Dizi[i+1]=Dizi[i]\n",
    "            i-=1\n",
    "            swapped=True\n",
    "        if not swapped:\n",
    "            break\n",
    "            print(\"Zaten sıralı\")\n",
    "            \n",
    "        Dizi[i+1]=key\n",
    "    print(Dizi)\n",
    "\n",
    "            "
   ]
  },
  {
   "cell_type": "code",
   "execution_count": 133,
   "id": "30ddca97-02e7-48ab-9daa-9857c0701a27",
   "metadata": {},
   "outputs": [
    {
     "name": "stdout",
     "output_type": "stream",
     "text": [
      "[1, 2, 3, 4, 5, 6, 7, 8, 9, 0]\n"
     ]
    }
   ],
   "source": [
    "a=[4,7,1,0,8,5,2,3,5,9,11,0,1,3,3,6]\n",
    "b=[1,2,3,4,5,6,7,8,9,0]\n",
    "InsertionSort(b)"
   ]
  },
  {
   "cell_type": "code",
   "execution_count": null,
   "id": "ef7f32f2-8185-47b9-862f-cfb569b2cb8d",
   "metadata": {},
   "outputs": [],
   "source": []
  },
  {
   "cell_type": "markdown",
   "id": "e9eaeb47-3cab-4bf6-81a9-99b4ea14a2e8",
   "metadata": {},
   "source": [
    "Merge Sort"
   ]
  },
  {
   "cell_type": "code",
   "execution_count": 137,
   "id": "ab83f964-978c-4dce-80f1-d552c769732e",
   "metadata": {},
   "outputs": [],
   "source": [
    "def MergeSort(Dizi):\n",
    "    n = len(Dizi)\n",
    "    if n<=1:\n",
    "        return 1\n",
    "    L=Dizi[:int(n/2)]\n",
    "    R=Dizi[int(n/2):]\n",
    "    #print(\"L:\",L,\" R:\",R)\n",
    "    \n",
    "\n",
    "    MergeSort(L)\n",
    "    #print(\"Sıra R'de\")\n",
    "    MergeSort(R)\n",
    "    print(\"-----------------\")\n",
    "    print(\"L:\",L,\" R:\",R)\n",
    "    "
   ]
  },
  {
   "cell_type": "code",
   "execution_count": 186,
   "id": "90718be2-cd1e-44a0-acb5-4a9f2cbb2c51",
   "metadata": {},
   "outputs": [
    {
     "name": "stdout",
     "output_type": "stream",
     "text": [
      "-----------------\n",
      "L: [5]  R: [0]\n",
      "-----------------\n",
      "L: [2]  R: [1]\n",
      "-----------------\n",
      "L: [4]  R: [2, 1]\n",
      "-----------------\n",
      "L: [5, 0]  R: [4, 2, 1]\n"
     ]
    }
   ],
   "source": [
    "a=[4,7,1,0,8,5,2,3,5,9,11,0,1,3,3,6]\n",
    "b=[1,2,3,4,5,6,7]\n",
    "c=[5,0,4,2,1]\n",
    "MergeSort(c)"
   ]
  },
  {
   "cell_type": "code",
   "execution_count": 182,
   "id": "32ec38c6-e07f-4d55-87e0-f76db7ca864e",
   "metadata": {},
   "outputs": [],
   "source": [
    "def fact(x,i):\n",
    "    if(x<=1):\n",
    "        return 7\n",
    "    print(i)\n",
    "    a=fact(x-1,i+1)\n",
    "    print(\"i:\",i,\" x:\",x,\" a:\",a)\n",
    "    #print(a)\n",
    "    #return a"
   ]
  },
  {
   "cell_type": "code",
   "execution_count": null,
   "id": "c4ec1a9f-c326-4f38-a42e-ebd54ab06277",
   "metadata": {},
   "outputs": [],
   "source": []
  },
  {
   "cell_type": "code",
   "execution_count": 232,
   "id": "ec8f7c81-0cff-4c77-8ed2-d797be10c109",
   "metadata": {},
   "outputs": [
    {
     "name": "stdout",
     "output_type": "stream",
     "text": [
      "Sorted List: [0, 1, 2, 2, 3, 3, 3, 3, 4, 4, 5, 5, 6, 6, 7, 8, 8, 8, 9, 9, 10, 27, 38, 43, 82]\n",
      "Toplam n değeri: 106\n"
     ]
    }
   ],
   "source": [
    "n = 0  # Global sayaç\n",
    "\n",
    "def MergeSort(Dizi):\n",
    "    global n\n",
    "    \n",
    "    un = len(Dizi)\n",
    "    if un <= 1:\n",
    "        return Dizi\n",
    "    n += 1  # Sayaç artırılıyor\n",
    "    L = Dizi[:int(un/2)]\n",
    "    R = Dizi[int(un/2):]\n",
    "    \n",
    "    L = MergeSort(L)\n",
    "    R = MergeSort(R)\n",
    "    return merge(L, R)\n",
    "\n",
    "def merge(L, R):\n",
    "    global n\n",
    "    sonuc = []\n",
    "    i = 0\n",
    "    j = 0\n",
    "\n",
    "    while i < len(L) and j < len(R):\n",
    "        n += 1\n",
    "        if L[i] < R[j]:\n",
    "            sonuc.append(L[i])\n",
    "            i += 1\n",
    "        else:\n",
    "            sonuc.append(R[j])\n",
    "            j += 1\n",
    "\n",
    "    sonuc += L[i:] + R[j:]\n",
    "    return sonuc\n",
    "\n",
    "# Kullanım\n",
    "Dizi = [38, 27, 43, 3, 9, 82, 10,5,4,3,9,0,8,6,3,4,2,5,6,7,8,3,2,1,8]\n",
    "sorted_list = MergeSort(Dizi)\n",
    "print(\"Sorted List:\", sorted_list)\n",
    "print(\"Toplam n değeri:\", n)"
   ]
  },
  {
   "cell_type": "code",
   "execution_count": 237,
   "id": "77f7386b-9799-47ac-ba8e-3b9415018f96",
   "metadata": {},
   "outputs": [
    {
     "data": {
      "text/plain": [
       "[38, 27, 43, 9, 82, 10, 5, 9, 8, 6, 5, 6, 7, 8, 8]"
      ]
     },
     "execution_count": 237,
     "metadata": {},
     "output_type": "execute_result"
    }
   ],
   "source": []
  },
  {
   "cell_type": "code",
   "execution_count": 233,
   "id": "b7c37355-2fa9-427d-982d-8251bf1ae3d0",
   "metadata": {},
   "outputs": [],
   "source": [
    "import numpy as np"
   ]
  },
  {
   "cell_type": "code",
   "execution_count": 234,
   "id": "40ec4cce-7b4e-49ff-baf0-990cd58a0258",
   "metadata": {},
   "outputs": [
    {
     "data": {
      "text/plain": [
       "np.float64(116.09640474436812)"
      ]
     },
     "execution_count": 234,
     "metadata": {},
     "output_type": "execute_result"
    }
   ],
   "source": [
    "np.log2(len(Dizi))*len(Dizi)"
   ]
  },
  {
   "cell_type": "code",
   "execution_count": 223,
   "id": "71cddd96-2b42-48e3-bcb0-1fdd79d57546",
   "metadata": {},
   "outputs": [
    {
     "name": "stdout",
     "output_type": "stream",
     "text": [
      "7\n",
      "7\n",
      "12\n",
      "7\n",
      "7\n",
      "12\n",
      "25\n",
      "7\n",
      "7\n",
      "13\n",
      "7\n",
      "7\n",
      "13\n",
      "24\n",
      "16\n"
     ]
    },
    {
     "data": {
      "text/plain": [
       "[0, 0, 1, 1, 2, 3, 3, 3, 4, 5, 5, 6, 7, 8, 9, 11]"
      ]
     },
     "execution_count": 223,
     "metadata": {},
     "output_type": "execute_result"
    }
   ],
   "source": [
    "a=[4,7,1,0,8,5,2,3,5,9,11,0,1,3,3,6]\n",
    "b=[1,2,3,4,5,6,7]\n",
    "c=[5,0,4,2,1]\n",
    "MergeSort(a,0)\n"
   ]
  },
  {
   "cell_type": "code",
   "execution_count": null,
   "id": "550b9144-4152-4b5c-8b6a-e0f8904d5f5d",
   "metadata": {},
   "outputs": [],
   "source": []
  },
  {
   "cell_type": "code",
   "execution_count": 200,
   "id": "97e0ed98-e3fd-48ba-9b80-1d6b8290e88a",
   "metadata": {},
   "outputs": [],
   "source": [
    "def merge_sort(dizi):\n",
    "    if len(dizi) <= 1:\n",
    "        return dizi\n",
    "    \n",
    "    mid = len(dizi) // 2\n",
    "    sol = merge_sort(dizi[:mid])\n",
    "    sag = merge_sort(dizi[mid:])\n",
    "    \n",
    "    return merge(sol, sag)\n",
    "\n",
    "def merge(sol, sag):\n",
    "    sonuc = []\n",
    "    i = j = 0\n",
    "    \n",
    "    while i < len(sol) and j < len(sag):\n",
    "        if sol[i] < sag[j]:\n",
    "            sonuc.append(sol[i])\n",
    "            i += 1\n",
    "        else:\n",
    "            sonuc.append(sag[j])\n",
    "            j += 1\n",
    "    \n",
    "    sonuc += sol[i:] + sag[j:]\n",
    "    return sonuc\n"
   ]
  },
  {
   "cell_type": "markdown",
   "id": "f58b0761-a54a-472f-ba23-4921d982cf54",
   "metadata": {},
   "source": [
    "QuickSort"
   ]
  },
  {
   "cell_type": "code",
   "execution_count": 240,
   "id": "95d1d300-d2e9-450e-9c26-567cfb971c0b",
   "metadata": {},
   "outputs": [],
   "source": [
    "def quick(Dizi):\n",
    "    n=len(Dizi)\n",
    "    if n <=1:\n",
    "        return Dizi\n",
    "\n",
    "\n",
    "    pivot=Dizi[n//2]\n",
    "\n",
    "    L=[x for x in Dizi if x < pivot]\n",
    "    M=[x for x in Dizi if x== pivot]\n",
    "    R=[x for x in Dizi if x > pivot]\n",
    "\n",
    "    \n",
    "    return quick(L) + M + quick(R)\n",
    "    \n",
    "    "
   ]
  },
  {
   "cell_type": "code",
   "execution_count": 241,
   "id": "3f5a3abd-031e-44d4-baab-ae6d16da04a5",
   "metadata": {},
   "outputs": [
    {
     "data": {
      "text/plain": [
       "[0, 0, 1, 2, 2, 3, 3, 4, 6, 6, 7, 9, 16]"
      ]
     },
     "execution_count": 241,
     "metadata": {},
     "output_type": "execute_result"
    }
   ],
   "source": [
    "l=[3,2,9,6,1,0,4,3,6,7,2,16,0]\n",
    "quick(l)"
   ]
  },
  {
   "cell_type": "code",
   "execution_count": 243,
   "id": "32f3dad9-4a1d-437e-a418-058e22545092",
   "metadata": {},
   "outputs": [
    {
     "name": "stdout",
     "output_type": "stream",
     "text": [
      "1\n",
      "2\n",
      "3\n",
      "4\n",
      "5\n",
      "6\n",
      "7\n",
      "8\n",
      "9\n",
      "10\n",
      "11\n",
      "12\n",
      "13\n",
      "14\n",
      "15\n"
     ]
    }
   ],
   "source": [
    "say=0\n",
    "n=6\n",
    "for i in range(0,n):\n",
    "    for j in range(0,i):\n",
    "        say+=1\n",
    "        print(say)"
   ]
  },
  {
   "cell_type": "code",
   "execution_count": 250,
   "id": "a0fa5d02-29b1-4f12-8c83-2950e29ff0e7",
   "metadata": {},
   "outputs": [
    {
     "name": "stdout",
     "output_type": "stream",
     "text": [
      "1\n",
      "2\n",
      "3\n",
      "4\n",
      "5\n"
     ]
    }
   ],
   "source": [
    "\n",
    "i=0\n",
    "n=10\n",
    "p=0\n",
    "while p<=n:\n",
    "        i+=1\n",
    "        p+=i\n",
    "        print(i)"
   ]
  },
  {
   "cell_type": "code",
   "execution_count": 279,
   "id": "17dd8981-1e44-4128-8769-86c6371a2501",
   "metadata": {},
   "outputs": [],
   "source": [
    "say=0\n",
    "def algoritma2(n):\n",
    "    global say\n",
    "    s=0\n",
    "    if(n>1):\n",
    "        for i in range(1,int(n**3)):\n",
    "            s=s+1\n",
    "            for i in range(1,7):\n",
    "                say+=1\n",
    "                #print(say)\n",
    "                algoritma2(n/2)\n",
    "        s+=2\n",
    "    "
   ]
  },
  {
   "cell_type": "code",
   "execution_count": 280,
   "id": "823250e2-fee4-4ed1-a4cf-ae314fc81bca",
   "metadata": {},
   "outputs": [
    {
     "name": "stdout",
     "output_type": "stream",
     "text": [
      "2617410 3350.1114009346184\n"
     ]
    }
   ],
   "source": [
    "d=6\n",
    "algoritma2(d)\n",
    "toplam=np.log2(d)*6*d**3\n",
    "print(say,toplam)"
   ]
  },
  {
   "cell_type": "code",
   "execution_count": 254,
   "id": "ee770183-0731-4c9f-9d5a-cbbebd4560a8",
   "metadata": {},
   "outputs": [
    {
     "data": {
      "text/plain": [
       "1000"
      ]
     },
     "execution_count": 254,
     "metadata": {},
     "output_type": "execute_result"
    }
   ],
   "source": [
    "10**3"
   ]
  },
  {
   "cell_type": "code",
   "execution_count": null,
   "id": "e208c423-811e-4e99-ac2a-1d0210b7cd45",
   "metadata": {},
   "outputs": [],
   "source": []
  }
 ],
 "metadata": {
  "kernelspec": {
   "display_name": "Python 3 (ipykernel)",
   "language": "python",
   "name": "python3"
  },
  "language_info": {
   "codemirror_mode": {
    "name": "ipython",
    "version": 3
   },
   "file_extension": ".py",
   "mimetype": "text/x-python",
   "name": "python",
   "nbconvert_exporter": "python",
   "pygments_lexer": "ipython3",
   "version": "3.13.0"
  }
 },
 "nbformat": 4,
 "nbformat_minor": 5
}
