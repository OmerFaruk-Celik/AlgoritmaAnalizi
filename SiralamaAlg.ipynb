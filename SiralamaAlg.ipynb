{
 "cells": [
  {
   "cell_type": "markdown",
   "id": "2cb9616d-0dd1-417c-853f-fef1a62b1615",
   "metadata": {},
   "source": [
    "Selection Sort"
   ]
  },
  {
   "cell_type": "code",
   "execution_count": 29,
   "id": "028012b9-9a92-49cd-a2f7-d49d31c563b5",
   "metadata": {},
   "outputs": [],
   "source": [
    "def swap(Arr,x,y):\n",
    "    tmp=Arr[x]\n",
    "    Arr[x]=Arr[y]\n",
    "    Arr[y]=tmp\n"
   ]
  },
  {
   "cell_type": "code",
   "execution_count": 46,
   "id": "6581c5a6-79d6-43d9-a8d5-2a6a893e6d93",
   "metadata": {},
   "outputs": [],
   "source": [
    "\n",
    "    \n",
    "def SelectionSort(Dizi):\n",
    "    for i in range(len(Dizi)-1):\n",
    "        m=i\n",
    "        for j in range(i+1,len(Dizi)):\n",
    "            if Dizi[j] < Dizi[m]:\n",
    "                m=j\n",
    "        swap(Dizi,m,j)\n",
    "\n",
    "    print(Dizi)\n",
    "                "
   ]
  },
  {
   "cell_type": "code",
   "execution_count": 48,
   "id": "f99c84ac-9995-4439-a379-d721b4f5ea73",
   "metadata": {},
   "outputs": [
    {
     "name": "stdout",
     "output_type": "stream",
     "text": [
      "[9, 2, 3, 4, 5, 6, 7, 8, 1]\n"
     ]
    }
   ],
   "source": [
    "a=[4,7,1,0,8,5,2,3,5,9,11,0,1,3,3,6]\n",
    "b=[1,2,3,4,5,6,7,8,9]\n",
    "SelectionSort(b)"
   ]
  },
  {
   "cell_type": "markdown",
   "id": "718ad149-1964-4cea-a63e-c65e1d8599d3",
   "metadata": {},
   "source": [
    "Buble Sort"
   ]
  },
  {
   "cell_type": "code",
   "execution_count": 37,
   "id": "8ac3a448-2cc2-42c4-9c79-3e9b101b6abc",
   "metadata": {},
   "outputs": [],
   "source": [
    "def BubleSort(Dizi):\n",
    "    for j in range(len(Dizi)-1):\n",
    "        swapped=False\n",
    "        for i in range(len(Dizi)-1-j):\n",
    "            k=i+1\n",
    "            if Dizi[k]<Dizi[i]:\n",
    "                swap(Dizi,k,i)\n",
    "                swapped=True\n",
    "        if not swapped:\n",
    "            print(\"Dizi zaten sıralı\")\n",
    "            break\n",
    "    print(Dizi)"
   ]
  },
  {
   "cell_type": "code",
   "execution_count": 38,
   "id": "880b71dc-21c3-46f0-acad-3dd9d6dc32ee",
   "metadata": {},
   "outputs": [
    {
     "name": "stdout",
     "output_type": "stream",
     "text": [
      "[0, 0, 1, 1, 2, 3, 3, 3, 4, 5, 5, 6, 7, 8, 9, 11]\n"
     ]
    }
   ],
   "source": [
    "a=[4,7,1,0,8,5,2,3,5,9,11,0,1,3,3,6]\n",
    "BubleSort(a)"
   ]
  },
  {
   "cell_type": "code",
   "execution_count": 45,
   "id": "f8b8f276-9a9d-4cf9-927c-12adf26e558c",
   "metadata": {},
   "outputs": [
    {
     "name": "stdout",
     "output_type": "stream",
     "text": [
      "dizi zaten sıralı\n",
      "Sıralı liste: [11, 12, 22, 25, 64]\n"
     ]
    }
   ],
   "source": [
    "def selection_sort(arr):\n",
    "    n = len(arr)\n",
    "    for i in range(n):\n",
    "        min_index = i  # Şu anki i en küçük olarak varsayılır\n",
    "        swapped=False\n",
    "        for j in range(i + 1, n):\n",
    "            if arr[j] < arr[min_index]:\n",
    "                min_index = j  # Yeni minimum bulunursa güncellenir\n",
    "                swapped=True\n",
    "        # En küçük eleman ile yer değiştir\n",
    "        if not swapped:\n",
    "            print(\"dizi zaten sıralı\")\n",
    "            break\n",
    "        arr[i], arr[min_index] = arr[min_index], arr[i]\n",
    "\n",
    "# Örnek kullanım\n",
    "liste = [64, 25, 12, 22, 11]\n",
    "selection_sort(liste)\n",
    "print(\"Sıralı liste:\", liste)\n"
   ]
  },
  {
   "cell_type": "code",
   "execution_count": null,
   "id": "a6623acc-748b-4c18-ac60-72e7e8b3e5af",
   "metadata": {},
   "outputs": [],
   "source": []
  }
 ],
 "metadata": {
  "kernelspec": {
   "display_name": "Python 3 (ipykernel)",
   "language": "python",
   "name": "python3"
  },
  "language_info": {
   "codemirror_mode": {
    "name": "ipython",
    "version": 3
   },
   "file_extension": ".py",
   "mimetype": "text/x-python",
   "name": "python",
   "nbconvert_exporter": "python",
   "pygments_lexer": "ipython3",
   "version": "3.13.0"
  }
 },
 "nbformat": 4,
 "nbformat_minor": 5
}
